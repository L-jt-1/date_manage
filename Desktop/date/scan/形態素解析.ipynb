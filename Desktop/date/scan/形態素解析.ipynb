{
 "cells": [
  {
   "cell_type": "code",
   "execution_count": null,
   "metadata": {},
   "outputs": [],
   "source": [
    "#すべてのファイルを結合し、output_fileに書き込み。\n",
    "input_file = [\"T1-1-all.txt\", \"T1-2-all.txt\"]\n",
    "output_file = \"out_file\"\n",
    "line_list = []\n",
    "\n",
    "for file in input_file:\n",
    "    with open(file, \"r\", encoding=\"utf-8\") as f:\n",
    "        f_read = f.read().lower()\n",
    "        #print(f_read)\n",
    "        \n",
    "    # with open(output_file, \"a\", encoding=\"utf-8\") as f:\n",
    "    #     print(f_read, file=f)\n",
    "        \n",
    "    with open(output_file, encoding=\"utf-8\") as f:\n",
    "        for line in f:\n",
    "            if line != \"\\n\":\n",
    "                line_list.append(line) \n",
    "                \n",
    "    for i in range(len(line_list)):#各文中の改行符号を削除\n",
    "            line_list[i] = line_list[i].replace(\"\\n\", '')\n",
    "    print(line_list)#大きいリスト、中に各文が一つの要素になる\n",
    "#[\"she's arranging some flowers.\", .....］"
   ]
  },
  {
   "cell_type": "code",
   "execution_count": 19,
   "metadata": {},
   "outputs": [
    {
     "name": "stdout",
     "output_type": "stream",
     "text": [
      "['it', 'includes', 'a', 'musical', 'performance', '.']\n"
     ]
    }
   ],
   "source": [
    "import nltk \n",
    "tokens = []#二重リストになる：[['she', \"'s\", 'arranging', 'some', 'flowers', '.'],...］\n",
    "pos_tags = []\n",
    "\n",
    "for sentence in line_list:\n",
    "    #print(sentence)#各文が一行ずつプリントされる\n",
    "    words = nltk.word_tokenize(sentence)\n",
    "    #各文が各リストになり、各単語が各リスト中の要素\n",
    "    # 例：['it', 'includes', 'a', 'musical', 'performance', '.']\n",
    "\n",
    "    pos_tags.append(nltk.pos_tag(words))\n",
    "#print('!!!!!!', pos_tags)\n",
    "#print(pos_tags)\n",
    "print(words)   "
   ]
  },
  {
   "cell_type": "code",
   "execution_count": null,
   "metadata": {},
   "outputs": [],
   "source": [
    "#nltk中文说明https://blog.csdn.net/genius_man/article/details/86649753?utm_medium=distribute.pc_relevant.none-task-blog-2~default~baidujs_title~default-4-86649753-blog-77252847.pc_relevant_antiscanv3&spm=1001.2101.3001.4242.3&utm_relevant_index=7\n",
    "import nltk \n",
    "nltk.download('punkt')#分词包\n",
    "nltk.download('all')"
   ]
  },
  {
   "cell_type": "code",
   "execution_count": null,
   "metadata": {},
   "outputs": [],
   "source": [
    "# from nltk import pos_tag\n",
    "# #nltk.download(tagger)\n",
    "# sentences = [ ['hello', 'world'], ['good', 'morning'] ]\n",
    "# [pos_tag(sent) for sent in sentences]"
   ]
  },
  {
   "cell_type": "code",
   "execution_count": null,
   "metadata": {},
   "outputs": [],
   "source": []
  }
 ],
 "metadata": {
  "kernelspec": {
   "display_name": "Python 3.7.4 ('base')",
   "language": "python",
   "name": "python3"
  },
  "language_info": {
   "codemirror_mode": {
    "name": "ipython",
    "version": 3
   },
   "file_extension": ".py",
   "mimetype": "text/x-python",
   "name": "python",
   "nbconvert_exporter": "python",
   "pygments_lexer": "ipython3",
   "version": "3.7.4"
  },
  "orig_nbformat": 4,
  "vscode": {
   "interpreter": {
    "hash": "8ec55d18f54342dbb90dc6feb8e53bc6ca5c59b8faf2f1e259c8441fda915986"
   }
  }
 },
 "nbformat": 4,
 "nbformat_minor": 2
}
